{
 "cells": [
  {
   "cell_type": "code",
   "execution_count": null,
   "metadata": {},
   "outputs": [],
   "source": [
    "''' A simple TensorFlow application '''\n",
    "\n",
    "from __future__ import absolute_import\n",
    "from __future__ import division\n",
    "from __future__ import print_function\n",
    "\n",
    "import tensorflow as tf\n",
    "\n",
    "# Create tensor\n",
    "msg = tf.string_join(['Hello ', 'TensorFlow'])\n",
    "\n",
    "with tf.Session() as sess:\n",
    "        print(sess.run(msg))"
   ]
  },
  {
   "cell_type": "code",
   "execution_count": null,
   "metadata": {},
   "outputs": [],
   "source": [
    "''' Demonstrate the usage of tensors, graphs, and sessions '''\n",
    "\n",
    "from __future__ import absolute_import\n",
    "from __future__ import division\n",
    "from __future__ import print_function\n",
    "\n",
    "import tensorflow as tf\n",
    "\n",
    "# Step 1: Create two tensors and an addition operation\n",
    "t1 = tf.constant([1.2, 2.3, 3.4, 4.5])\n",
    "t2 = tf.random_normal([4])\n",
    "t3 = t1 + t2\n",
    "graph1 = tf.get_default_graph()\n",
    "\n",
    "# Step 2: Create a second graph and make it the default graph\n",
    "graph2 = tf.Graph()\n",
    "with graph2.as_default():\n",
    "\n",
    "# Step 3: Create two tensors in the second graph and a subtraction operation\n",
    "    t4 = tf.constant([5.6, 6.7, 7.8, 8.9])\n",
    "    t5 = tf.random_normal([4])\n",
    "    t6 = t4 - t5\n",
    "    \n",
    "# Step 4: Create a session and execute the addition operation from the first graph\n",
    "with tf.Session(graph=graph1) as sess:\n",
    "    print('Addition ', sess.run(t3))\n",
    "\n",
    "# Step 5: Create a second session and execute the subtraction operation from the second graph\n",
    "with tf.Session(graph=graph2) as sess:\n",
    "    print('Subtraction ', sess.run(t6))"
   ]
  },
  {
   "cell_type": "code",
   "execution_count": null,
   "metadata": {},
   "outputs": [],
   "source": [
    "''' Demonstrate the usage of tensors, graphs, and sessions '''\n",
    "\n",
    "from __future__ import absolute_import\n",
    "from __future__ import division\n",
    "from __future__ import print_function\n",
    "\n",
    "import tensorflow as tf#Import the tensorflow library\n",
    "\n",
    "# Step 1: Create two variables and an operation that adds them together\n",
    "v1 = tf.Variable(2)#set up a variable as a tensor, but also \n",
    "#setup a normal variable. Tensor variables are like a sub-variable.\n",
    "v2 = tf.Variable(3)\n",
    "v3 = v1 + v2#Normal variable operation.\n",
    "\n",
    "# Step 2: Obtain an operation that initializes the two variables\n",
    "#Like variable, you need to setup a tensor function to run.\n",
    "#This is the tensor function \"tf.global_variables_initializer()\"\n",
    "#You want the global variable one so it activates your tensor variables.\n",
    "init = tf.global_variables_initializer()\n",
    "\n",
    "# Step 3: Execute the initialization operation in a session\n",
    "#Using a WITH statement, and running the tensor as a session. You can\n",
    "#Run your variables that contains a tensor sub-variable, that contains\n",
    "# your tensor function.\n",
    "#WITH statement looks like a For Loop.\n",
    "with tf.Session() as sess:\n",
    "    sess.run(init)\n",
    "\n",
    "# Step 4: Execute the addition operation in a session\n",
    "#Now that you ran the tensor function to activate the tensor variables.\n",
    "#Run the normal variable operation to add the 2 regular variables that contain\n",
    "#tensors.\n",
    "    result = sess.run(v3)\n",
    "\n",
    "# Step 5: Print the result of the addition to the log\n",
    "#This is how you get the answer. Note that 'Result' is not the same as above\n",
    "#That is just a string. The key is the {0}, that is a place holder for your\n",
    "#answer.\n",
    "    tf.logging.set_verbosity(tf.logging.INFO)\n",
    "    tf.logging.info('Result: {0}'.format(result))"
   ]
  },
  {
   "cell_type": "code",
   "execution_count": 1,
   "metadata": {},
   "outputs": [
    {
     "name": "stdout",
     "output_type": "stream",
     "text": [
      "INFO:tensorflow:x is 1.9449639320373535 and the loss is 1.0032293796539307\n"
     ]
    }
   ],
   "source": [
    "''' Demonstrate how optimizers are used '''\n",
    "\n",
    "from __future__ import absolute_import\n",
    "from __future__ import division\n",
    "from __future__ import print_function\n",
    "\n",
    "import tensorflow as tf\n",
    "\n",
    "# Define constants\n",
    "learn_rate = 0.2\n",
    "num_steps = 100\n",
    "\n",
    "# Step 1: Define the loss function\n",
    "x = tf.Variable(0.0)\n",
    "loss = tf.pow(x, 2) - 4.0 * x + 5.0\n",
    "\n",
    "# Step 2: Create an optimizer to minimize the loss\n",
    "optimizer = tf.train.AdagradOptimizer(learn_rate).minimize(loss)\n",
    "\n",
    "# Step 3: Execute the optimizer in a session\n",
    "with tf.Session() as sess:\n",
    "    sess.run(tf.global_variables_initializer())\n",
    "    for _ in range(num_steps):\n",
    "        _, loss_val, x_val = sess.run([optimizer, loss, x])\n",
    "\n",
    "# Step 4: Print the values of x and the loss to the log\n",
    "    tf.logging.set_verbosity(tf.logging.INFO)\n",
    "    str = 'x is {0} and the loss is {1}'.format(x_val, loss_val)\n",
    "    tf.logging.info(str)"
   ]
  },
  {
   "cell_type": "code",
   "execution_count": null,
   "metadata": {},
   "outputs": [],
   "source": []
  }
 ],
 "metadata": {
  "kernelspec": {
   "display_name": "Python 3",
   "language": "python",
   "name": "python3"
  },
  "language_info": {
   "codemirror_mode": {
    "name": "ipython",
    "version": 3
   },
   "file_extension": ".py",
   "mimetype": "text/x-python",
   "name": "python",
   "nbconvert_exporter": "python",
   "pygments_lexer": "ipython3",
   "version": "3.6.7"
  }
 },
 "nbformat": 4,
 "nbformat_minor": 2
}
