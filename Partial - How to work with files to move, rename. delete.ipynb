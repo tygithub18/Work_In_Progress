{
 "cells": [
  {
   "cell_type": "markdown",
   "metadata": {},
   "source": [
    "## Partial - How to work with files to move, rename, and delete"
   ]
  },
  {
   "cell_type": "markdown",
   "metadata": {},
   "source": [
    "How to rename and copy files to a new location:\n",
    "https://www.youtube.com/watch?v=VlRUC4tF8TA\n",
    "\n",
    "How to delete files or directories:\n",
    "https://www.youtube.com/watch?v=JJaNqB43Mrs\n"
   ]
  },
  {
   "cell_type": "markdown",
   "metadata": {},
   "source": [
    "Ok, so the rename part works"
   ]
  },
  {
   "cell_type": "code",
   "execution_count": null,
   "metadata": {},
   "outputs": [],
   "source": [
    "import os"
   ]
  },
  {
   "cell_type": "code",
   "execution_count": null,
   "metadata": {},
   "outputs": [],
   "source": [
    "prevName = '9NEW - 191676400727_DE - DE,AT,CH - 12.12.18.xml'"
   ]
  },
  {
   "cell_type": "code",
   "execution_count": null,
   "metadata": {},
   "outputs": [],
   "source": [
    "newName = 'Meta1.xml'"
   ]
  },
  {
   "cell_type": "code",
   "execution_count": null,
   "metadata": {},
   "outputs": [],
   "source": [
    "os.rename(prevName, newName)"
   ]
  },
  {
   "cell_type": "markdown",
   "metadata": {},
   "source": [
    "Ok, the move file part works. This moves the file to a new location."
   ]
  },
  {
   "cell_type": "code",
   "execution_count": null,
   "metadata": {},
   "outputs": [],
   "source": [
    "prevName = 'Meta1.xml'\n",
    "newName = 'Ty stuff/Meta1.xml'\n",
    "\n",
    "os.rename(prevName, newName)"
   ]
  },
  {
   "cell_type": "markdown",
   "metadata": {},
   "source": [
    "Ok, this works. I have to restart the kernal if I want to do it again, but it works.\n",
    "The problem is that I want to specify with a list which files to delete, not just all text files."
   ]
  },
  {
   "cell_type": "code",
   "execution_count": null,
   "metadata": {},
   "outputs": [],
   "source": [
    "import glob\n",
    "import os\n",
    "\n",
    "#delList = ['asb.txt', 'asp.txt']"
   ]
  },
  {
   "cell_type": "code",
   "execution_count": null,
   "metadata": {},
   "outputs": [],
   "source": [
    "#This delete all of the .txt files. If you do just *, then it delete everything in the folder.\n",
    "directory = 'Ty stuff'\n",
    "os.chdir(directory)\n",
    "files=glob.glob('*.txt')\n",
    "for filename in files:\n",
    "    os.unlink(filename)"
   ]
  },
  {
   "cell_type": "markdown",
   "metadata": {},
   "source": [
    "How to delete a folder\n",
    "\n",
    "Yes, it works"
   ]
  },
  {
   "cell_type": "code",
   "execution_count": null,
   "metadata": {},
   "outputs": [],
   "source": [
    "import shutil\n",
    "\n",
    "shutil.rmtree('C:/Users/TTANITA/Desktop/zia/Ty Trash')"
   ]
  },
  {
   "cell_type": "markdown",
   "metadata": {},
   "source": [
    "Now lets try to delete multiple folders\n",
    "\n",
    "Nope, it gives me the same problem as when I try to delete multiple files.\n",
    "\n",
    "lstat: path should be string, bytes or os.PathLike, not list"
   ]
  },
  {
   "cell_type": "code",
   "execution_count": null,
   "metadata": {},
   "outputs": [],
   "source": [
    "import shutil\n",
    "delFolderList = ('C:/Users/TTANITA/Desktop/zia/Ty Trash', 'C:/Users/TTANITA/Desktop/zia/Zia Trash')"
   ]
  },
  {
   "cell_type": "code",
   "execution_count": null,
   "metadata": {},
   "outputs": [],
   "source": [
    "import shutil\n",
    "\n",
    "shutil.rmtree(delFolderList)"
   ]
  }
 ],
 "metadata": {
  "kernelspec": {
   "display_name": "Python 3",
   "language": "python",
   "name": "python3"
  },
  "language_info": {
   "codemirror_mode": {
    "name": "ipython",
    "version": 3
   },
   "file_extension": ".py",
   "mimetype": "text/x-python",
   "name": "python",
   "nbconvert_exporter": "python",
   "pygments_lexer": "ipython3",
   "version": "3.6.7"
  }
 },
 "nbformat": 4,
 "nbformat_minor": 2
}
